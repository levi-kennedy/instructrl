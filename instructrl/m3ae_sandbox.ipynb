{
 "cells": [
  {
   "cell_type": "code",
   "execution_count": 1,
   "source": [
    "import sys\n",
    "\n",
    "sys.path.append('/content/instructrl/instructrl/models')\n",
    "sys.path.append('/content/instructrl/instructrl/models/m3ae')\n",
    "\n",
    "from functools import partial\n",
    "import pickle\n",
    "from PIL import Image    \n",
    "from numpy import asarray\n",
    "import jax\n",
    "import jax.numpy as jnp\n",
    "import numpy as np\n",
    "from flax import linen as nn\n",
    "import transformers\n",
    "import einops\n",
    "from models.m3ae.model import MaskedMultimodalAutoencoder, merge_patches\n",
    "from models.m3ae.utils import set_random_seed\n",
    "from models.m3ae.jax_utils import JaxRNG\n",
    "from jax import random\n",
    "from m3ae_exercise import encode_decode_image_text"
   ],
   "outputs": [],
   "metadata": {}
  }
 ],
 "nbformat": 4,
 "nbformat_minor": 2,
 "metadata": {
  "language_info": {
   "codemirror_mode": {
    "name": "ipython",
    "version": 3
   },
   "file_extension": ".py",
   "mimetype": "text/x-python",
   "name": "python",
   "nbconvert_exporter": "python",
   "pygments_lexer": "ipython3",
   "version": 3
  },
  "orig_nbformat": 4
 }
}